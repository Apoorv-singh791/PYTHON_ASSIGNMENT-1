{
 "cells": [
  {
   "cell_type": "markdown",
   "id": "51e3e2fb-6de0-4d49-95d0-2d47b5e3810d",
   "metadata": {},
   "source": [
    "Q1. Create one variable containing following type of data:                                                                                             \n",
    "(i) string                                                                                                                                             \n",
    "(ii) list                                                                                                                                             \n",
    "(iii) float                                                                                                                                           \n",
    "(iv) tuple                                                                                                                                             "
   ]
  },
  {
   "cell_type": "code",
   "execution_count": 6,
   "id": "686b5b75-7d79-401a-8cec-9333aace1cda",
   "metadata": {},
   "outputs": [],
   "source": [
    "# VARIABLE CONTAINING STRING \n",
    "var=\"my name is apoorv singh\"\n",
    "# VARIABLE CONTAINING LIST \n",
    "var=[1,2,3,4]\n",
    "# VARIABLE CONTAINING FLOAT\n",
    "var=23.32\n",
    "# VARIABLE CONTAINING TUPLE\n",
    "var=(1,2,3,4)\n",
    "# SINGLE VARIABLE CONTAINING STRING,LIST,FLOAT,TUPLE.\n",
    "var=[\"apoorv singh\",[1,2,3,4],23.32,(1,2,3,4)]"
   ]
  },
  {
   "cell_type": "markdown",
   "id": "98f384e7-4a3b-448c-91fa-9c263828ca78",
   "metadata": {},
   "source": [
    "Q2. Given are some following variables containing data:                                                                                               \n",
    "(i) var1 = ‘ ‘                                                                                                                                         \n",
    "(ii) var2 = ‘[ DS , ML , Python]’                                                                                                                     \n",
    "(iii) var3 = [ ‘DS’ , ’ML’ , ‘Python’ ]                                                                                                               \n",
    "(iv) var4 = 1.                                                                                                                                         \n",
    "What will be the data type of the above given variable.                                                                                                                     "
   ]
  },
  {
   "cell_type": "markdown",
   "id": "5e729356-0a63-4465-86ba-26fa3207ccf3",
   "metadata": {},
   "source": [
    "A2. the data type of the above given variable is :                                                                                                     "
   ]
  },
  {
   "cell_type": "markdown",
   "id": "cefaf964-e825-4bb3-8b40-7c61a10dcf7e",
   "metadata": {},
   "source": [
    "var1 = INVALID SYNTAX ‘ ‘  or INVALID CHARACTER"
   ]
  },
  {
   "cell_type": "markdown",
   "id": "58b9cd72-0b5b-4862-a0ca-2749942dfd40",
   "metadata": {},
   "source": [
    "var2 = INVALID SYNTAX ‘ ’  or INVALID CHARACTER"
   ]
  },
  {
   "cell_type": "markdown",
   "id": "c2b7dfe8-2dfe-4881-bccf-578ca92ac128",
   "metadata": {},
   "source": [
    "var3 = INVALID SYNTAX ‘ ’  or INVALID CHARACTER"
   ]
  },
  {
   "cell_type": "markdown",
   "id": "20d0154f-2aaf-48d2-a7a6-67f83aebe131",
   "metadata": {},
   "source": [
    "var4 = float"
   ]
  },
  {
   "cell_type": "markdown",
   "id": "ab569c40-b5d5-4aa5-bc8c-1cad0204b9c9",
   "metadata": {},
   "source": [
    "Q3. Explain the use of the following operators using an example:                                                                                       \n",
    "(i) /                                                                                                                                                 \n",
    "(ii) %                                                                                                                                                 \n",
    "(iii) //                                                                                                                                               \n",
    "(iv) **                                                                                                                                               "
   ]
  },
  {
   "cell_type": "markdown",
   "id": "ff2c17bd-3654-4a24-948d-6af26c010891",
   "metadata": {},
   "source": [
    "A3. (i) / is division operator in pyhton is used to perform division operation on data and it gives the quotient of division.EXAMPLE : "
   ]
  },
  {
   "cell_type": "code",
   "execution_count": 58,
   "id": "ef258e84-1029-4566-951f-a13d2d59fa5e",
   "metadata": {},
   "outputs": [
    {
     "name": "stdout",
     "output_type": "stream",
     "text": [
      "3.0\n"
     ]
    }
   ],
   "source": [
    "a=6\n",
    "b=2\n",
    "print(a/b)"
   ]
  },
  {
   "cell_type": "markdown",
   "id": "d61f1fd4-f751-4293-873c-c8b45105e21c",
   "metadata": {},
   "source": [
    "(ii) % is modulo operator in python and is used to get the remainder of the division operation.EXAMPLE : "
   ]
  },
  {
   "cell_type": "code",
   "execution_count": 59,
   "id": "f100654e-667f-4946-81d0-9aee229dfbb2",
   "metadata": {},
   "outputs": [
    {
     "name": "stdout",
     "output_type": "stream",
     "text": [
      "1\n"
     ]
    }
   ],
   "source": [
    "a=7\n",
    "b=2\n",
    "print(a%b)"
   ]
  },
  {
   "cell_type": "markdown",
   "id": "54714c65-76a4-4521-9a10-8eb1bfa4a194",
   "metadata": {},
   "source": [
    "(iii) // is known as floor division operator in python and is used to convert the result of division to the nearest whole number.EXAMPLE : "
   ]
  },
  {
   "cell_type": "code",
   "execution_count": 60,
   "id": "a7bc9b51-8e73-45ec-9ebc-7f008ea951aa",
   "metadata": {},
   "outputs": [
    {
     "name": "stdout",
     "output_type": "stream",
     "text": [
      "3\n"
     ]
    }
   ],
   "source": [
    "a=7\n",
    "b=2\n",
    "print(a//b)"
   ]
  },
  {
   "cell_type": "markdown",
   "id": "1c081a93-9020-4232-8d2c-feaab32aa4bf",
   "metadata": {},
   "source": [
    "(iv) ** is known as exponential operator in python and it is used to raise the value of first operand which will be on the left side of the operator to the power of second operator which will be on the right side of the operator . EXAMPLE :\n"
   ]
  },
  {
   "cell_type": "code",
   "execution_count": 61,
   "id": "da3e6fab-6a36-48fc-a7ff-e41231277546",
   "metadata": {},
   "outputs": [
    {
     "name": "stdout",
     "output_type": "stream",
     "text": [
      "8\n"
     ]
    }
   ],
   "source": [
    "a=2\n",
    "b=3\n",
    "print(a**b)"
   ]
  },
  {
   "cell_type": "markdown",
   "id": "b1912a0c-c31e-4a8a-b15f-b22cd50b0b32",
   "metadata": {},
   "source": [
    "Q4. Create a list of length 10 of your choice containing multiple types of data. Using for loop print the\n",
    "element and its data type."
   ]
  },
  {
   "cell_type": "code",
   "execution_count": 62,
   "id": "8ab48ed1-74fb-40aa-bcc0-a748539c7fd3",
   "metadata": {},
   "outputs": [],
   "source": [
    "l=[1,23.45,\"apoorv\",True,(6+7j),[8,9,10],(11,12,13),{\"name\":\"apoorv\"},{14,15,16},17]"
   ]
  },
  {
   "cell_type": "code",
   "execution_count": 63,
   "id": "eab97b1c-8f23-492c-9f2e-d92edf686283",
   "metadata": {},
   "outputs": [
    {
     "name": "stdout",
     "output_type": "stream",
     "text": [
      "ELEMENT : 1\n",
      "TYPE :  <class 'int'>\n",
      "ELEMENT : 23.45\n",
      "TYPE :  <class 'float'>\n",
      "ELEMENT : apoorv\n",
      "TYPE :  <class 'str'>\n",
      "ELEMENT : True\n",
      "TYPE :  <class 'bool'>\n",
      "ELEMENT : (6+7j)\n",
      "TYPE :  <class 'complex'>\n",
      "ELEMENT : [8, 9, 10]\n",
      "TYPE :  <class 'list'>\n",
      "ELEMENT : (11, 12, 13)\n",
      "TYPE :  <class 'tuple'>\n",
      "ELEMENT : {'name': 'apoorv'}\n",
      "TYPE :  <class 'dict'>\n",
      "ELEMENT : {16, 14, 15}\n",
      "TYPE :  <class 'set'>\n",
      "ELEMENT : 17\n",
      "TYPE :  <class 'int'>\n"
     ]
    }
   ],
   "source": [
    "for i in l:\n",
    "    print(f\"ELEMENT : {i}\")\n",
    "    print(\"TYPE : \",type(i))"
   ]
  },
  {
   "cell_type": "markdown",
   "id": "3429287a-2e48-4b7b-9887-3cc761bba7a3",
   "metadata": {},
   "source": [
    "Q5. Using a while loop, verify if the number A is purely divisible by number B and if so then how many\n",
    "times it can be divisible."
   ]
  },
  {
   "cell_type": "code",
   "execution_count": 64,
   "id": "904fab43-06dd-4a69-b615-f4dd0f1d7980",
   "metadata": {},
   "outputs": [
    {
     "name": "stdout",
     "output_type": "stream",
     "text": [
      "NUMBER 25 IS DIVISIBLE BY 5 WITH 2 TIMES\n"
     ]
    }
   ],
   "source": [
    "a=25\n",
    "temp=a\n",
    "b=5\n",
    "c=0\n",
    "while(a%b==0):\n",
    "    c=c+1\n",
    "    a=a/b\n",
    "print(f\"NUMBER {temp} IS DIVISIBLE BY {b} WITH {c} TIMES\")"
   ]
  },
  {
   "cell_type": "markdown",
   "id": "e22aed1d-4211-4533-bdd3-8841c08aaccb",
   "metadata": {},
   "source": [
    "Q6. Create a list containing 25 int type data. Using for loop and if-else condition print if the element is\n",
    "divisible by 3 or not."
   ]
  },
  {
   "cell_type": "code",
   "execution_count": 65,
   "id": "eaa9ca56-d10b-4ef7-b09c-14f0c2092b4b",
   "metadata": {},
   "outputs": [
    {
     "name": "stdout",
     "output_type": "stream",
     "text": [
      "1 is not divisible by 3\n",
      "2 is not divisible by 3\n",
      "3 is divisible by 3\n",
      "4 is not divisible by 3\n",
      "5 is not divisible by 3\n",
      "6 is divisible by 3\n",
      "7 is not divisible by 3\n",
      "8 is not divisible by 3\n",
      "9 is divisible by 3\n",
      "10 is not divisible by 3\n",
      "11 is not divisible by 3\n",
      "12 is divisible by 3\n",
      "13 is not divisible by 3\n",
      "14 is not divisible by 3\n",
      "15 is divisible by 3\n",
      "16 is not divisible by 3\n",
      "17 is not divisible by 3\n",
      "18 is divisible by 3\n",
      "19 is not divisible by 3\n",
      "20 is not divisible by 3\n",
      "21 is divisible by 3\n",
      "22 is not divisible by 3\n",
      "23 is not divisible by 3\n",
      "24 is divisible by 3\n",
      "25 is not divisible by 3\n"
     ]
    }
   ],
   "source": [
    "l=[]\n",
    "for i in range(1,26):\n",
    "    l.append(i)\n",
    "for i in l:\n",
    "    if(i%3==0):\n",
    "        print(f\"{i} is divisible by 3\")\n",
    "    else:\n",
    "        print(f\"{i} is not divisible by 3\")"
   ]
  },
  {
   "cell_type": "markdown",
   "id": "bcc6889d-38d5-4638-99f2-7f8525f5badc",
   "metadata": {},
   "source": [
    "Q7. What do you understand about mutable and immutable data types? Give examples for both showing\n",
    "this property."
   ]
  },
  {
   "cell_type": "markdown",
   "id": "3190bd73-e2ba-4f51-899b-666f834dc18f",
   "metadata": {},
   "source": [
    "A7. Mutable data types are the data types in which we can edit data ie insert or remove or extend data whenever we want , example list .Immutable data types are the ones in which we can’t make any changes, neither can we remove or add any data, for example Tuple."
   ]
  },
  {
   "cell_type": "code",
   "execution_count": 66,
   "id": "b5433a87-93b5-43d1-bf95-7780cb907a89",
   "metadata": {},
   "outputs": [
    {
     "data": {
      "text/plain": [
       "[0, 24, 4, 542, 23]"
      ]
     },
     "execution_count": 66,
     "metadata": {},
     "output_type": "execute_result"
    }
   ],
   "source": [
    "# EXAMPLE OF MUTABLE DATA TYPE \n",
    "l=[23,24,4,542,23]\n",
    "l[0]=0\n",
    "l"
   ]
  },
  {
   "cell_type": "code",
   "execution_count": 55,
   "id": "805f7129-8127-49e8-b8a1-38f17da3cbc7",
   "metadata": {},
   "outputs": [
    {
     "ename": "TypeError",
     "evalue": "'str' object does not support item assignment",
     "output_type": "error",
     "traceback": [
      "\u001b[0;31m---------------------------------------------------------------------------\u001b[0m",
      "\u001b[0;31mTypeError\u001b[0m                                 Traceback (most recent call last)",
      "Cell \u001b[0;32mIn[55], line 3\u001b[0m\n\u001b[1;32m      1\u001b[0m \u001b[38;5;66;03m# EXAMPLE OF IMMUTABLE DATA TYPE\u001b[39;00m\n\u001b[1;32m      2\u001b[0m a\u001b[38;5;241m=\u001b[39m\u001b[38;5;124m\"\u001b[39m\u001b[38;5;124mapoorv\u001b[39m\u001b[38;5;124m\"\u001b[39m\n\u001b[0;32m----> 3\u001b[0m \u001b[43ma\u001b[49m\u001b[43m[\u001b[49m\u001b[38;5;241;43m0\u001b[39;49m\u001b[43m]\u001b[49m\u001b[38;5;241m=\u001b[39m\u001b[38;5;124m\"\u001b[39m\u001b[38;5;124mb\u001b[39m\u001b[38;5;124m\"\u001b[39m\n",
      "\u001b[0;31mTypeError\u001b[0m: 'str' object does not support item assignment"
     ]
    }
   ],
   "source": [
    "# EXAMPLE OF IMMUTABLE DATA TYPE\n",
    "a=\"apoorv\"\n",
    "a[0]=\"b\""
   ]
  }
 ],
 "metadata": {
  "kernelspec": {
   "display_name": "Python 3 (ipykernel)",
   "language": "python",
   "name": "python3"
  },
  "language_info": {
   "codemirror_mode": {
    "name": "ipython",
    "version": 3
   },
   "file_extension": ".py",
   "mimetype": "text/x-python",
   "name": "python",
   "nbconvert_exporter": "python",
   "pygments_lexer": "ipython3",
   "version": "3.10.8"
  }
 },
 "nbformat": 4,
 "nbformat_minor": 5
}
